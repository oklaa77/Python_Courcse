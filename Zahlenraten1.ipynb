{
 "cells": [
  {
   "cell_type": "markdown",
   "id": "21816941",
   "metadata": {},
   "source": [
    "#"
   ]
  },
  {
   "cell_type": "code",
   "execution_count": 5,
   "id": "e2a160a2",
   "metadata": {},
   "outputs": [
    {
     "name": "stdout",
     "output_type": "stream",
     "text": [
      "Bitte gebe ein, in wievielen Versuchen Du eine Zahl raten moechtest: 20\n"
     ]
    },
    {
     "ename": "KeyboardInterrupt",
     "evalue": "Interrupted by user",
     "output_type": "error",
     "traceback": [
      "\u001b[1;31m------------------------------------------------------------------\u001b[0m",
      "\u001b[1;31mKeyboardInterrupt\u001b[0m                Traceback (most recent call last)",
      "\u001b[1;32m~\\AppData\\Local\\Temp/ipykernel_32040/61203946.py\u001b[0m in \u001b[0;36m<module>\u001b[1;34m\u001b[0m\n\u001b[0;32m     16\u001b[0m \u001b[1;32mfor\u001b[0m \u001b[0mi\u001b[0m \u001b[1;32min\u001b[0m \u001b[0mrange\u001b[0m\u001b[1;33m(\u001b[0m\u001b[0mmax_num_of_guesses\u001b[0m\u001b[1;33m)\u001b[0m\u001b[1;33m:\u001b[0m \u001b[1;31m# magic number\u001b[0m\u001b[1;33m\u001b[0m\u001b[1;33m\u001b[0m\u001b[0m\n\u001b[0;32m     17\u001b[0m     \u001b[1;31m#print(i+1)\u001b[0m\u001b[1;33m\u001b[0m\u001b[1;33m\u001b[0m\u001b[1;33m\u001b[0m\u001b[0m\n\u001b[1;32m---> 18\u001b[1;33m     user_input = input(\n\u001b[0m\u001b[0;32m     19\u001b[0m         \u001b[1;34mf\"Bitte gebe eine Zahl ein (zwischen {min_allowed_number} und {max_allowed_number}): \"\u001b[0m\u001b[1;33m\u001b[0m\u001b[1;33m\u001b[0m\u001b[0m\n\u001b[0;32m     20\u001b[0m     )\n",
      "\u001b[1;32m~\\Anaconda3\\lib\\site-packages\\ipykernel\\kernelbase.py\u001b[0m in \u001b[0;36mraw_input\u001b[1;34m(self, prompt)\u001b[0m\n\u001b[0;32m   1004\u001b[0m                 \u001b[1;34m\"raw_input was called, but this frontend does not support input requests.\"\u001b[0m\u001b[1;33m\u001b[0m\u001b[1;33m\u001b[0m\u001b[0m\n\u001b[0;32m   1005\u001b[0m             )\n\u001b[1;32m-> 1006\u001b[1;33m         return self._input_request(\n\u001b[0m\u001b[0;32m   1007\u001b[0m             \u001b[0mstr\u001b[0m\u001b[1;33m(\u001b[0m\u001b[0mprompt\u001b[0m\u001b[1;33m)\u001b[0m\u001b[1;33m,\u001b[0m\u001b[1;33m\u001b[0m\u001b[1;33m\u001b[0m\u001b[0m\n\u001b[0;32m   1008\u001b[0m             \u001b[0mself\u001b[0m\u001b[1;33m.\u001b[0m\u001b[0m_parent_ident\u001b[0m\u001b[1;33m[\u001b[0m\u001b[1;34m\"shell\"\u001b[0m\u001b[1;33m]\u001b[0m\u001b[1;33m,\u001b[0m\u001b[1;33m\u001b[0m\u001b[1;33m\u001b[0m\u001b[0m\n",
      "\u001b[1;32m~\\Anaconda3\\lib\\site-packages\\ipykernel\\kernelbase.py\u001b[0m in \u001b[0;36m_input_request\u001b[1;34m(self, prompt, ident, parent, password)\u001b[0m\n\u001b[0;32m   1049\u001b[0m             \u001b[1;32mexcept\u001b[0m \u001b[0mKeyboardInterrupt\u001b[0m\u001b[1;33m:\u001b[0m\u001b[1;33m\u001b[0m\u001b[1;33m\u001b[0m\u001b[0m\n\u001b[0;32m   1050\u001b[0m                 \u001b[1;31m# re-raise KeyboardInterrupt, to truncate traceback\u001b[0m\u001b[1;33m\u001b[0m\u001b[1;33m\u001b[0m\u001b[1;33m\u001b[0m\u001b[0m\n\u001b[1;32m-> 1051\u001b[1;33m                 \u001b[1;32mraise\u001b[0m \u001b[0mKeyboardInterrupt\u001b[0m\u001b[1;33m(\u001b[0m\u001b[1;34m\"Interrupted by user\"\u001b[0m\u001b[1;33m)\u001b[0m \u001b[1;32mfrom\u001b[0m \u001b[1;32mNone\u001b[0m\u001b[1;33m\u001b[0m\u001b[1;33m\u001b[0m\u001b[0m\n\u001b[0m\u001b[0;32m   1052\u001b[0m             \u001b[1;32mexcept\u001b[0m \u001b[0mException\u001b[0m\u001b[1;33m:\u001b[0m\u001b[1;33m\u001b[0m\u001b[1;33m\u001b[0m\u001b[0m\n\u001b[0;32m   1053\u001b[0m                 \u001b[0mself\u001b[0m\u001b[1;33m.\u001b[0m\u001b[0mlog\u001b[0m\u001b[1;33m.\u001b[0m\u001b[0mwarning\u001b[0m\u001b[1;33m(\u001b[0m\u001b[1;34m\"Invalid Message:\"\u001b[0m\u001b[1;33m,\u001b[0m \u001b[0mexc_info\u001b[0m\u001b[1;33m=\u001b[0m\u001b[1;32mTrue\u001b[0m\u001b[1;33m)\u001b[0m\u001b[1;33m\u001b[0m\u001b[1;33m\u001b[0m\u001b[0m\n",
      "\u001b[1;31mKeyboardInterrupt\u001b[0m: Interrupted by user"
     ]
    }
   ],
   "source": [
    "# Möglichkeit füer den Benutzer, die Anzahl der Schleifendurchlaeufe festzulegen \n",
    "# import random\n",
    "\n",
    "user_input = input(\n",
    "    f\"Bitte gebe ein, in wievielen Versuchen Du eine Zahl raten moechtest: \"\n",
    ")\n",
    "# TODO: \n",
    "# Benutzer koennte Zeichen statt Zahlen eingeben\n",
    "# Benutzer koennte eine negative Zahl eingeben\n",
    "max_num_of_guesses = int(user_input)\n",
    "\n",
    "min_allowed_number = 1\n",
    "max_allowed_number = 100\n",
    "number_to_guess = random.randint(min_allowed_number, max_allowed_number) # Zuweisung\n",
    "# print(number_to_guess)\n",
    "\n",
    "for i in range(max_num_of_guesses): # magic number\n",
    "    #print(i+1)\n",
    "    user_input = input(\n",
    "        f\"Bitte gebe eine Zahl ein (zwischen {min_allowed_number} und {max_allowed_number}): \"\n",
    "    )\n",
    "    try:\n",
    "        user_input_as_int = int(user_input)\n",
    "    except ValueError:\n",
    "        print(\"Bitte Zahlen eingeben\")\n",
    "        continue\n",
    "        \n",
    "    if (user_input_as_int > max_allowed_number) or (user_input_as_int < min_allowed_number): \n",
    "        # Achtung! Einrueckung (4 Leerzeichen)-> If-body\n",
    "        print(\"Die eingegebe Zahl liegt ausserhalb der erlaubten Grenzen !!!\")\n",
    "        print(\"Bitte versuche es nochmal\")\n",
    "    else:       \n",
    "        # print(\"jetzt schaue ich nach, ob das die gesuchte Zahl ist...\")\n",
    "        if user_input_as_int == number_to_guess: # Vergleich\n",
    "            print(\"Bingo! Gut gemacht!\")\n",
    "            break\n",
    "        else:\n",
    "            if user_input_as_int < number_to_guess:\n",
    "                print(\"Deine Zahl ist zu klein!\")\n",
    "            else: # user_input_as_int > number_to_guess\n",
    "                print(\"Deine Zahl ist zu gross!\")                \n",
    "\n",
    "print(f\"AUf Wiedersehen (nach {i+1} Versuch(en))\")  \n"
   ]
  },
  {
   "cell_type": "code",
   "execution_count": 6,
   "id": "46ea4ba4",
   "metadata": {},
   "outputs": [
    {
     "name": "stdout",
     "output_type": "stream",
     "text": [
      "Bitte gebe ein, in wievielen Versuchen Du eine Zahl raten moechtest: 2\n",
      "Bitte gebe eine Zahl ein (zwischen 1 und 100): 50\n",
      "Deine Zahl ist zu gross!\n",
      "Bitte gebe eine Zahl ein (zwischen 1 und 100): 25\n",
      "Deine Zahl ist zu klein!\n",
      "AUf Wiedersehen (nach 2 Versuch(en))\n",
      "die gesuchte Zahl war 29\n"
     ]
    }
   ],
   "source": [
    "# Feedback zum Programmende der gesuchten Zahl (falls die Zahl nicht geraten wurde) \n",
    "## import random\n",
    "\n",
    "user_input = input(\n",
    "    f\"Bitte gebe ein, in wievielen Versuchen Du eine Zahl raten moechtest: \"\n",
    ")\n",
    "# TODO: \n",
    "# Benutzer koennte Zeichen statt Zahlen eingeben\n",
    "# Benutzer koennte eine negative Zahl eingeben\n",
    "max_num_of_guesses = int(user_input)\n",
    "\n",
    "min_allowed_number = 1\n",
    "max_allowed_number = 100\n",
    "number_to_guess = random.randint(min_allowed_number, max_allowed_number) # Zuweisung\n",
    "# print(number_to_guess)\n",
    "\n",
    "for i in range(max_num_of_guesses): # magic number\n",
    "    #print(i+1)\n",
    "    user_input = input(\n",
    "        f\"Bitte gebe eine Zahl ein (zwischen {min_allowed_number} und {max_allowed_number}): \"\n",
    "    )\n",
    "    try:\n",
    "        user_input_as_int = int(user_input)\n",
    "    except ValueError:\n",
    "        print(\"Bitte Zahlen eingeben\")\n",
    "        continue\n",
    "        \n",
    "    if (user_input_as_int > max_allowed_number) or (user_input_as_int < min_allowed_number): \n",
    "        # Achtung! Einrueckung (4 Leerzeichen)-> If-body\n",
    "        print(\"Die eingegebe Zahl liegt ausserhalb der erlaubten Grenzen !!!\")\n",
    "        print(\"Bitte versuche es nochmal\")\n",
    "    else:       \n",
    "        # print(\"jetzt schaue ich nach, ob das die gesuchte Zahl ist...\")\n",
    "        if user_input_as_int == number_to_guess: # Vergleich\n",
    "            print(\"Bingo! Gut gemacht!\")\n",
    "            break\n",
    "        else:\n",
    "            if user_input_as_int < number_to_guess:\n",
    "                print(\"Deine Zahl ist zu klein!\")\n",
    "            else: # user_input_as_int > number_to_guess\n",
    "                print(\"Deine Zahl ist zu gross!\")                \n",
    "\n",
    "print(f\"AUf Wiedersehen (nach {i+1} Versuch(en))\") \n",
    "if user_input_as_int != number_to_guess:\n",
    "    print(f\"die gesuchte Zahl war {number_to_guess}\")\n"
   ]
  },
  {
   "cell_type": "code",
   "execution_count": 7,
   "id": "9c48062c",
   "metadata": {},
   "outputs": [],
   "source": [
    "## Optional: stelle sicher, dass Fehleingaben nicht die Anzahl Versuche beeinflussen..."
   ]
  },
  {
   "cell_type": "code",
   "execution_count": 9,
   "id": "549afa3c",
   "metadata": {},
   "outputs": [
    {
     "name": "stdout",
     "output_type": "stream",
     "text": [
      "Bitte gebe ein, in wievielen Versuchen Du eine Zahl raten moechtest: 5\n",
      "Bitte gebe eine Zahl ein (zwischen 1 und 100): hasdj\n",
      "Bitte Zahlen eingeben\n",
      "Bitte gebe eine Zahl ein (zwischen 1 und 100): hjs\n",
      "Bitte Zahlen eingeben\n",
      "Bitte gebe eine Zahl ein (zwischen 1 und 100): 2\n",
      "Deine Zahl ist zu klein!\n",
      "Bitte gebe eine Zahl ein (zwischen 1 und 100): 101\n",
      "Deine Zahl ist zu gross!\n",
      "Bitte gebe eine Zahl ein (zwischen 1 und 100): 50\n",
      "Deine Zahl ist zu klein!\n",
      "Bitte gebe eine Zahl ein (zwischen 1 und 100): 25\n",
      "Deine Zahl ist zu klein!\n",
      "Bitte gebe eine Zahl ein (zwischen 1 und 100): 27\n",
      "Deine Zahl ist zu klein!\n",
      "AUf Wiedersehen (nach 5 Versuch(en))\n",
      "die gesuchte Zahl war 94\n"
     ]
    }
   ],
   "source": [
    "## import random\n",
    "\n",
    "user_input = input(\n",
    "    f\"Bitte gebe ein, in wievielen Versuchen Du eine Zahl raten moechtest: \"\n",
    ")\n",
    "# TODO: \n",
    "# Benutzer koennte Zeichen statt Zahlen eingeben\n",
    "# Benutzer koennte eine negative Zahl eingeben\n",
    "max_num_of_guesses = int(user_input)\n",
    "\n",
    "min_allowed_number = 1\n",
    "max_allowed_number = 100\n",
    "number_to_guess = random.randint(min_allowed_number, max_allowed_number) # Zuweisung\n",
    "\n",
    "for i in range(max_num_of_guesses): # magic number\n",
    "    while True:\n",
    "        user_input = input(\n",
    "            f\"Bitte gebe eine Zahl ein (zwischen {min_allowed_number} und {max_allowed_number}): \"\n",
    "        )\n",
    "        try:\n",
    "            user_input_as_int = int(user_input)\n",
    "            break\n",
    "        except ValueError:\n",
    "            print(\"Bitte Zahlen eingeben\")\n",
    "            continue\n",
    "        \n",
    "        if (user_input_as_int > max_allowed_number) or (user_input_as_int < min_allowed_number): \n",
    "            # Achtung! Einrueckung (4 Leerzeichen)-> If-body\n",
    "            print(\"Die eingegebe Zahl liegt ausserhalb der erlaubten Grenzen !!!\")\n",
    "            print(\"Bitte versuche es nochmal\")\n",
    "        else:\n",
    "            break\n",
    "            \n",
    "    # print(\"jetzt schaue ich nach, ob das die gesuchte Zahl ist...\")\n",
    "    if user_input_as_int == number_to_guess: # Vergleich\n",
    "        print(\"Bingo! Gut gemacht!\")\n",
    "        break\n",
    "    else:\n",
    "        if user_input_as_int < number_to_guess:\n",
    "            print(\"Deine Zahl ist zu klein!\")\n",
    "        else: # user_input_as_int > number_to_guess\n",
    "            print(\"Deine Zahl ist zu gross!\")                \n",
    "\n",
    "print(f\"AUf Wiedersehen (nach {i+1} Versuch(en))\") \n",
    "if user_input_as_int != number_to_guess:\n",
    "    print(f\"die gesuchte Zahl war {number_to_guess}\")\n"
   ]
  }
 ],
 "metadata": {
  "kernelspec": {
   "display_name": "Python 3.9.12 ('base')",
   "language": "python",
   "name": "python3"
  },
  "language_info": {
   "codemirror_mode": {
    "name": "ipython",
    "version": 3
   },
   "file_extension": ".py",
   "mimetype": "text/x-python",
   "name": "python",
   "nbconvert_exporter": "python",
   "pygments_lexer": "ipython3",
   "version": "3.9.12"
  },
  "toc": {
   "base_numbering": 1,
   "nav_menu": {},
   "number_sections": true,
   "sideBar": true,
   "skip_h1_title": false,
   "title_cell": "Table of Contents",
   "title_sidebar": "Contents",
   "toc_cell": false,
   "toc_position": {},
   "toc_section_display": true,
   "toc_window_display": false
  },
  "varInspector": {
   "cols": {
    "lenName": 16,
    "lenType": 16,
    "lenVar": 40
   },
   "kernels_config": {
    "python": {
     "delete_cmd_postfix": "",
     "delete_cmd_prefix": "del ",
     "library": "var_list.py",
     "varRefreshCmd": "print(var_dic_list())"
    },
    "r": {
     "delete_cmd_postfix": ") ",
     "delete_cmd_prefix": "rm(",
     "library": "var_list.r",
     "varRefreshCmd": "cat(var_dic_list()) "
    }
   },
   "types_to_exclude": [
    "module",
    "function",
    "builtin_function_or_method",
    "instance",
    "_Feature"
   ],
   "window_display": false
  },
  "vscode": {
   "interpreter": {
    "hash": "f08154012ddadd8e950e6e9e035c7a7b32c136e7647e9b7c77e02eb723a8bedb"
   }
  }
 },
 "nbformat": 4,
 "nbformat_minor": 5
}
